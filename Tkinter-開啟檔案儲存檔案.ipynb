{
 "cells": [
  {
   "cell_type": "code",
   "execution_count": 1,
   "metadata": {},
   "outputs": [],
   "source": [
    "import tkinter as tk\n",
    "from tkinter import ttk\n",
    "from tkinter import filedialog as fd"
   ]
  },
  {
   "cell_type": "code",
   "execution_count": 2,
   "metadata": {},
   "outputs": [],
   "source": [
    "def open_file():\n",
    "    openfilename=fd.askopenfilename(initialdir=\"/\",title=\"Select file\",\\\n",
    "                 filetypes = ((\"text files\",\"*.txt\"),(\"all files\",\"*.*\")))\n",
    "    print (openfilename)\n",
    "    try:\n",
    "        with open(openfilename,'r') as file:\n",
    "            print(file.read())\n",
    "    except:\n",
    "        print(\"檔案不存在!\") \n",
    "def save_file():\n",
    "    f=fd.asksaveasfile(mode='w', defaultextension=\".txt\")\n",
    "    if f is None:\n",
    "        return\n",
    "    f.write(\"Hello World!\")\n",
    "    f.close() "
   ]
  },
  {
   "cell_type": "code",
   "execution_count": 3,
   "metadata": {},
   "outputs": [],
   "source": [
    "root=tk.Tk()\n",
    "root.title(\"檔案開啟 & 儲存檔案\")\n",
    "ttk.Button(root, text=\"開啟檔案\", command=open_file).pack()\n",
    "ttk.Button(root, text=\"儲存檔案\", command=save_file).pack()\n",
    "root.mainloop()"
   ]
  }
 ],
 "metadata": {
  "kernelspec": {
   "display_name": "Python 3",
   "language": "python",
   "name": "python3"
  },
  "language_info": {
   "codemirror_mode": {
    "name": "ipython",
    "version": 3
   },
   "file_extension": ".py",
   "mimetype": "text/x-python",
   "name": "python",
   "nbconvert_exporter": "python",
   "pygments_lexer": "ipython3",
   "version": "3.7.3"
  }
 },
 "nbformat": 4,
 "nbformat_minor": 2
}
